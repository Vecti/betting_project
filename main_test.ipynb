{
 "cells": [
  {
   "cell_type": "markdown",
   "metadata": {},
   "source": [
    "## 1. Betting project"
   ]
  },
  {
   "cell_type": "markdown",
   "metadata": {},
   "source": [
    "### Current list to do\n",
    "* model.py with models\n",
    "* data_provider to get and transform data\n",
    "* class with request what we want (goal everywhere/ on home pit/etc?)\n",
    "* evaluator class - calculates metrics for given staff\n",
    "---\n",
    "future\n",
    "* web scraper? comparing to bet stakes\n",
    "* program interface\n",
    "* separate architectures for different games (not only football)"
   ]
  },
  {
   "cell_type": "code",
   "execution_count": 19,
   "metadata": {},
   "outputs": [],
   "source": [
    "import data_provider as dp\n",
    "\n",
    "import pandas as pd\n",
    "from scipy.stats import poisson\n",
    "from importlib import reload\n"
   ]
  },
  {
   "cell_type": "code",
   "execution_count": 2,
   "metadata": {},
   "outputs": [],
   "source": [
    "ex_path = 'data/ekstraklasa.csv'\n",
    "\n",
    "data = pd.read_csv(ex_path, sep=';')"
   ]
  },
  {
   "cell_type": "code",
   "execution_count": 20,
   "metadata": {},
   "outputs": [
    {
     "data": {
      "text/plain": [
       "<module 'models' from 'c:\\\\Users\\\\ASUS\\\\Desktop\\\\github projects\\\\betting\\\\betting_project\\\\models.py'>"
      ]
     },
     "execution_count": 20,
     "metadata": {},
     "output_type": "execute_result"
    }
   ],
   "source": [
    "import data_provider as dp\n",
    "import models \n",
    "reload(dp)\n",
    "reload(models)"
   ]
  },
  {
   "cell_type": "code",
   "execution_count": 4,
   "metadata": {},
   "outputs": [
    {
     "data": {
      "text/html": [
       "<div>\n",
       "<style scoped>\n",
       "    .dataframe tbody tr th:only-of-type {\n",
       "        vertical-align: middle;\n",
       "    }\n",
       "\n",
       "    .dataframe tbody tr th {\n",
       "        vertical-align: top;\n",
       "    }\n",
       "\n",
       "    .dataframe thead th {\n",
       "        text-align: right;\n",
       "    }\n",
       "</style>\n",
       "<table border=\"1\" class=\"dataframe\">\n",
       "  <thead>\n",
       "    <tr style=\"text-align: right;\">\n",
       "      <th></th>\n",
       "      <th>Rank</th>\n",
       "      <th>Team</th>\n",
       "      <th>Match</th>\n",
       "      <th>Points</th>\n",
       "      <th>GS</th>\n",
       "      <th>GL</th>\n",
       "    </tr>\n",
       "  </thead>\n",
       "  <tbody>\n",
       "    <tr>\n",
       "      <th>0</th>\n",
       "      <td>1</td>\n",
       "      <td>Lech Poznan</td>\n",
       "      <td>28</td>\n",
       "      <td>56</td>\n",
       "      <td>56</td>\n",
       "      <td>25</td>\n",
       "    </tr>\n",
       "  </tbody>\n",
       "</table>\n",
       "</div>"
      ],
      "text/plain": [
       "   Rank         Team  Match  Points  GS  GL\n",
       "0     1  Lech Poznan     28      56  56  25"
      ]
     },
     "execution_count": 4,
     "metadata": {},
     "output_type": "execute_result"
    }
   ],
   "source": [
    "data.head(1)"
   ]
  },
  {
   "cell_type": "code",
   "execution_count": 18,
   "metadata": {},
   "outputs": [
    {
     "name": "stdout",
     "output_type": "stream",
     "text": [
      "666\n",
      "0    2.0\n",
      "dtype: float64\n",
      "2.642857142857143\n",
      "0    0.892857\n",
      "dtype: float64\n",
      "2.6547619047619047\n",
      "(0    2.0\n",
      "dtype: float64, 0    0.892857\n",
      "dtype: float64)\n"
     ]
    }
   ],
   "source": [
    "x = dp.DataProvider(ex_path)\n",
    "poisson_model = models.PoissonModel(x.data)\n",
    "# poisson.data\n",
    "print(poisson_model.sum_of_goal('GS'))\n",
    "print(poisson_model.attack_team_ratio('Lech Poznan','GS', 'Match'))\n",
    "print(poisson_model.global_attack_ratio('GS'))\n",
    "print(poisson_model.defend_team_ratio('Lech Poznan', 'GL', 'Match'))\n",
    "print(poisson_model.global_defend_ratio('GL'))\n",
    "\n",
    "print(poisson_model.home_team_goal_expectancy('Lech Poznan', \"Legia Warszawa\", 'GS', 'GL','Match'))"
   ]
  },
  {
   "cell_type": "code",
   "execution_count": 29,
   "metadata": {},
   "outputs": [
    {
     "data": {
      "text/plain": [
       "0.0068574412951968615"
      ]
     },
     "execution_count": 29,
     "metadata": {},
     "output_type": "execute_result"
    }
   ],
   "source": [
    "test_number = 1.23\n",
    "poisson.pmf(5, test_number)"
   ]
  }
 ],
 "metadata": {
  "interpreter": {
   "hash": "a23257344542c70b70a498512f46db94a3a7f44d371a6893c689768adca66338"
  },
  "kernelspec": {
   "display_name": "Python 3.7.4 64-bit",
   "language": "python",
   "name": "python3"
  },
  "language_info": {
   "codemirror_mode": {
    "name": "ipython",
    "version": 3
   },
   "file_extension": ".py",
   "mimetype": "text/x-python",
   "name": "python",
   "nbconvert_exporter": "python",
   "pygments_lexer": "ipython3",
   "version": "3.7.4"
  },
  "orig_nbformat": 4
 },
 "nbformat": 4,
 "nbformat_minor": 2
}
